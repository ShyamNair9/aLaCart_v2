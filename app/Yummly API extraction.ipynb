{
 "cells": [
  {
   "cell_type": "code",
   "execution_count": 40,
   "metadata": {},
   "outputs": [],
   "source": [
    "#Authentication\n",
    "from yummly import Client\n",
    "TIMEOUT = 5.0\n",
    "RETRIES = 0\n",
    "\n",
    "client = Client(api_id='f6d397bb', api_key='d9bced6300b813ad97ca503a048efa96', timeout=TIMEOUT, retries=RETRIES)"
   ]
  },
  {
   "cell_type": "code",
   "execution_count": 47,
   "metadata": {},
   "outputs": [
    {
     "name": "stdout",
     "output_type": "stream",
     "text": [
      "('Total Matches:', 78957)\n",
      "('Recipe ID:', u'Bacon-Crack-791741')\n",
      "('Recipe:', u'Bacon Crack')\n",
      "('Rating:', 4)\n",
      "('Total Time (mins):', 35.0)\n",
      "----------------------------------------------------\n",
      "('Recipe ID:', u'Candied-Bacon-1531520')\n",
      "('Recipe:', u'Candied Bacon')\n",
      "('Rating:', 4)\n",
      "('Total Time (mins):', 50.0)\n",
      "----------------------------------------------------\n",
      "('Recipe ID:', u'Bacon-Cream-Cheese-Bombs-2267310')\n",
      "('Recipe:', u'Bacon Cream Cheese Bombs')\n",
      "('Rating:', 3)\n",
      "('Total Time (mins):', 40.0)\n",
      "----------------------------------------------------\n",
      "('Recipe ID:', u'Bacon-Butty-440544')\n",
      "('Recipe:', u'Bacon Butty')\n",
      "('Rating:', 5)\n",
      "('Total Time (mins):', 20.0)\n",
      "----------------------------------------------------\n",
      "('Recipe ID:', u'Bacon-and-cheese-egg-mcmuffin-cups-334789')\n",
      "('Recipe:', u'Bacon and Cheese Egg McMuffin Cups')\n",
      "('Rating:', 5)\n",
      "('Total Time (mins):', 35.0)\n",
      "----------------------------------------------------\n",
      "('Recipe ID:', u'Bacon-Crack-1314849')\n",
      "('Recipe:', u'Bacon Crack')\n",
      "('Rating:', 4)\n",
      "('Total Time (mins):', 15.0)\n",
      "----------------------------------------------------\n",
      "('Recipe ID:', u'Garlic-Bacon-Pot-Roast-2211857')\n",
      "('Recipe:', u'Garlic Bacon Pot Roast')\n",
      "('Rating:', 4)\n",
      "('Total Time (mins):', 310.0)\n",
      "----------------------------------------------------\n",
      "('Recipe ID:', u'Cheddar-Bacon-Explosion-2072906')\n",
      "('Recipe:', u'Cheddar Bacon Explosion')\n",
      "('Rating:', 3)\n",
      "('Total Time (mins):', 90.0)\n",
      "----------------------------------------------------\n",
      "('Recipe ID:', u'Bacon-Jam-512899')\n",
      "('Recipe:', u'Bacon Jam')\n",
      "('Rating:', 5)\n",
      "('Total Time (mins):', 105.0)\n",
      "----------------------------------------------------\n",
      "('Recipe ID:', u'Cheddar-_-Bacon-Loaf-898909')\n",
      "('Recipe:', u'Cheddar & Bacon Loaf')\n",
      "('Rating:', 3)\n",
      "('Total Time (mins):', 10.0)\n",
      "----------------------------------------------------\n",
      "('Recipe ID:', u'Praline-Bacon-2224511')\n",
      "('Recipe:', u'Praline Bacon')\n",
      "('Rating:', 4)\n",
      "('Total Time (mins):', 35.0)\n",
      "----------------------------------------------------\n",
      "('Recipe ID:', u'Roasted-Cauliflower-Recipe-with-Bacon-and-Garlic-2264339')\n",
      "('Recipe:', u'Roasted Cauliflower Recipe with Bacon and Garlic')\n",
      "('Rating:', 4)\n",
      "('Total Time (mins):', 35.0)\n",
      "----------------------------------------------------\n",
      "('Recipe ID:', u'Bacon-Gravy-1289205')\n",
      "('Recipe:', u'Bacon Gravy')\n",
      "('Rating:', 4)\n",
      "('Total Time (mins):', 25.0)\n",
      "----------------------------------------------------\n",
      "('Recipe ID:', u'Bacon-Crack-1422816')\n",
      "('Recipe:', u'Bacon Crack')\n",
      "('Rating:', 4)\n",
      "('Total Time (mins):', 55.0)\n",
      "----------------------------------------------------\n",
      "('Recipe ID:', u'Bacon-Hash-1737671')\n",
      "('Recipe:', u'Bacon Hash')\n",
      "('Rating:', 3)\n",
      "('Total Time (mins):', 30.0)\n",
      "----------------------------------------------------\n",
      "('Recipe ID:', u'Cheddar-Bacon-Chicken-Tenders-2129585')\n",
      "('Recipe:', u'Cheddar Bacon Chicken Tenders')\n",
      "('Rating:', 3)\n",
      "('Total Time (mins):', 30.0)\n",
      "----------------------------------------------------\n",
      "('Recipe ID:', u'Bacon-Tater-Crockpot-Breakfast-2214179')\n",
      "('Recipe:', u'Bacon Tater Crockpot Breakfast')\n",
      "('Rating:', 4)\n",
      "('Total Time (mins):', 50.0)\n",
      "----------------------------------------------------\n",
      "('Recipe ID:', u'Penne-with-ricotta-and-bacon-348677')\n",
      "('Recipe:', u'Penne with Ricotta and Bacon')\n",
      "('Rating:', 5)\n",
      "('Total Time (mins):', 30.0)\n",
      "----------------------------------------------------\n",
      "('Recipe ID:', u'Bacon-Explosion-1103228')\n",
      "('Recipe:', u'Bacon Explosion')\n",
      "('Rating:', 4)\n",
      "('Total Time (mins):', 40.0)\n",
      "----------------------------------------------------\n",
      "('Recipe ID:', u'Bacon-Bombs-2278992')\n",
      "('Recipe:', u'Bacon Bombs')\n",
      "('Rating:', 4)\n"
     ]
    },
    {
     "ename": "TypeError",
     "evalue": "unsupported operand type(s) for /: 'NoneType' and 'float'",
     "output_type": "error",
     "traceback": [
      "\u001b[0;31m---------------------------------------------------------------------------\u001b[0m",
      "\u001b[0;31mTypeError\u001b[0m                                 Traceback (most recent call last)",
      "\u001b[0;32m<ipython-input-47-8fe95cebcf6a>\u001b[0m in \u001b[0;36m<module>\u001b[0;34m()\u001b[0m\n\u001b[1;32m      7\u001b[0m     \u001b[0;32mprint\u001b[0m\u001b[0;34m(\u001b[0m\u001b[0;34m'Recipe:'\u001b[0m\u001b[0;34m,\u001b[0m \u001b[0mmatch\u001b[0m\u001b[0;34m.\u001b[0m\u001b[0mrecipeName\u001b[0m\u001b[0;34m)\u001b[0m\u001b[0;34m\u001b[0m\u001b[0m\n\u001b[1;32m      8\u001b[0m     \u001b[0;32mprint\u001b[0m\u001b[0;34m(\u001b[0m\u001b[0;34m'Rating:'\u001b[0m\u001b[0;34m,\u001b[0m \u001b[0mmatch\u001b[0m\u001b[0;34m.\u001b[0m\u001b[0mrating\u001b[0m\u001b[0;34m)\u001b[0m\u001b[0;34m\u001b[0m\u001b[0m\n\u001b[0;32m----> 9\u001b[0;31m     \u001b[0;32mprint\u001b[0m\u001b[0;34m(\u001b[0m\u001b[0;34m'Total Time (mins):'\u001b[0m\u001b[0;34m,\u001b[0m \u001b[0mmatch\u001b[0m\u001b[0;34m.\u001b[0m\u001b[0mtotalTimeInSeconds\u001b[0m \u001b[0;34m/\u001b[0m \u001b[0;36m60.0\u001b[0m\u001b[0;34m)\u001b[0m\u001b[0;34m\u001b[0m\u001b[0m\n\u001b[0m\u001b[1;32m     10\u001b[0m     \u001b[0;32mprint\u001b[0m\u001b[0;34m(\u001b[0m\u001b[0;34m'----------------------------------------------------'\u001b[0m\u001b[0;34m)\u001b[0m\u001b[0;34m\u001b[0m\u001b[0m\n",
      "\u001b[0;31mTypeError\u001b[0m: unsupported operand type(s) for /: 'NoneType' and 'float'"
     ]
    }
   ],
   "source": [
    "#Extraction Type 1\n",
    "results = client.search('bacon')\n",
    "\n",
    "print('Total Matches:', results.totalMatchCount)\n",
    "for match in results.matches:\n",
    "    print('Recipe ID:', match.id)\n",
    "    print('Recipe:', match.recipeName)\n",
    "    print('Rating:', match.rating)\n",
    "    print('Total Time (mins):', match.totalTimeInSeconds / 60.0)\n",
    "    print('----------------------------------------------------')"
   ]
  },
  {
   "cell_type": "code",
   "execution_count": 48,
   "metadata": {},
   "outputs": [
    {
     "name": "stdout",
     "output_type": "stream",
     "text": [
      "('Total time to cook:', u'55 min')\n",
      "('Rating:', 3)\n",
      "('Steps to cook:', [u'10 large eggs', u'1 1/2 cups shredded Monterey Jack cheese', u'1/2 cup finely grated Pecorino Romano or Parmesan cheese', u'4 - 6 thin slices smoked ham, torn into pieces', u'2 tablespoons butter', u'2 tablespoons olive oil', u'1 large spring onion or 4 green onions, sliced into thin rounds', u'10 ounces mixed baby greens, such as chard, kale, and/or spinach'])\n",
      "('Number of servings', u'6 servings')\n",
      "('Image URL:', u'https://static.yummly.co/api-logo.png')\n"
     ]
    }
   ],
   "source": [
    "#Extraction Type 2\n",
    "search = client.search('green eggs and ham')\n",
    "match = search.matches[0]\n",
    "recipe = client.recipe(match.id)\n",
    "\n",
    "print(\"Total time to cook:\",recipe['totalTime'])\n",
    "print(\"Rating:\", recipe['rating'])\n",
    "print(\"Steps to cook:\", recipe['ingredientLines'])\n",
    "print(\"Number of servings\", recipe['yields'])\n",
    "print(\"Image URL:\", recipe['attribution']['logo'])"
   ]
  },
  {
   "cell_type": "code",
   "execution_count": 49,
   "metadata": {},
   "outputs": [
    {
     "data": {
      "text/plain": [
       "Recipe({'totalTime': u'55 min', 'rating': 3, 'attribution': Attribution({'url': u'http://www.yummly.co/recipe/Greens_-Eggs-_-Ham-Frittata-2207719', 'text': u'Greens, Eggs &amp; Ham Frittata recipes: information powered by Yummly', 'html': u\"<a href='http://www.yummly.co/recipe/Greens_-Eggs-_-Ham-Frittata-2207719'>Greens, Eggs &amp; Ham Frittata recipe</a> information powered by <img alt='Yummly' src='https://static.yummly.co/api-logo.png'/>\", 'logo': u'https://static.yummly.co/api-logo.png'}), 'totalTimeInSeconds': 3300, 'ingredientLines': [u'10 large eggs', u'1 1/2 cups shredded Monterey Jack cheese', u'1/2 cup finely grated Pecorino Romano or Parmesan cheese', u'4 - 6 thin slices smoked ham, torn into pieces', u'2 tablespoons butter', u'2 tablespoons olive oil', u'1 large spring onion or 4 green onions, sliced into thin rounds', u'10 ounces mixed baby greens, such as chard, kale, and/or spinach'], 'numberOfServings': 6, 'flavors': Flavors({'piquant': 0.0, 'sour': 1.0, 'salty': 1.0, 'sweet': 1.0, 'bitter': 1.0, 'meaty': 1.0}), 'source': RecipeSource({'sourceSiteUrl': u'http://www.bhg.com', 'sourceDisplayName': u'Better Homes and Gardens', 'sourceRecipeUrl': u'http://www.bhg.com/recipe/greens-eggs-ham-frittata/'}), 'yields': u'6 servings', 'images': [RecipeImages({'hostedLargeUrl': u'https://lh3.googleusercontent.com/R1ZAb_RYqHilIbHPU3of0bue_7_G5R7POgUkI0pXby0jjVF2skmC7y-qv4k1TpiLF5UtdWJ8D6loswqObggT=s360', 'hostedSmallUrl': u'https://lh3.googleusercontent.com/R1ZAb_RYqHilIbHPU3of0bue_7_G5R7POgUkI0pXby0jjVF2skmC7y-qv4k1TpiLF5UtdWJ8D6loswqObggT=s90'})], 'attributes': {}, 'nutritionEstimates': [NutritionEstimate({'attribute': u'FAT_KCAL', 'unit': NutritionUnit({'abbreviation': u'kcal', 'pluralAbbreviation': u'kcal', 'plural': u'calories', 'id': u'fea252f8-9888-4365-b005-e2c63ed3a776'}), 'description': None, 'value': 280.0}), NutritionEstimate({'attribute': u'NA', 'unit': NutritionUnit({'abbreviation': u'g', 'pluralAbbreviation': u'grams', 'plural': u'grams', 'id': u'12485d26-6e69-102c-9a8a-0030485841f8'}), 'description': u'Sodium, Na', 'value': 0.82}), NutritionEstimate({'attribute': u'ZN', 'unit': NutritionUnit({'abbreviation': u'g', 'pluralAbbreviation': u'grams', 'plural': u'grams', 'id': u'12485d26-6e69-102c-9a8a-0030485841f8'}), 'description': u'Zinc, Zn', 'value': 0.0}), NutritionEstimate({'attribute': u'VITD-', 'unit': NutritionUnit({'abbreviation': u'IU', 'pluralAbbreviation': u'IU', 'plural': u'IU', 'id': u'ed46fe0c-44fe-4c1f-b3a8-880f92e30930'}), 'description': u'Vitamin D', 'value': 54.5}), NutritionEstimate({'attribute': u'PRO_G', 'unit': NutritionUnit({'abbreviation': u'g', 'pluralAbbreviation': u'grams', 'plural': u'grams', 'id': u'12485d26-6e69-102c-9a8a-0030485841f8'}), 'description': u'Proline', 'value': 2.44}), NutritionEstimate({'attribute': u'FAT', 'unit': NutritionUnit({'abbreviation': u'g', 'pluralAbbreviation': u'grams', 'plural': u'grams', 'id': u'12485d26-6e69-102c-9a8a-0030485841f8'}), 'description': u'Total lipid (fat)', 'value': 31.09}), NutritionEstimate({'attribute': u'VITC', 'unit': NutritionUnit({'abbreviation': u'g', 'pluralAbbreviation': u'grams', 'plural': u'grams', 'id': u'12485d26-6e69-102c-9a8a-0030485841f8'}), 'description': u'Vitamin C, total ascorbic acid', 'value': 0.02}), NutritionEstimate({'attribute': u'ENERC_KCAL', 'unit': NutritionUnit({'abbreviation': u'kcal', 'pluralAbbreviation': u'kcal', 'plural': u'calories', 'id': u'fea252f8-9888-4365-b005-e2c63ed3a776'}), 'description': u'Energy', 'value': 401.86}), NutritionEstimate({'attribute': u'VITA_IU', 'unit': NutritionUnit({'abbreviation': u'IU', 'pluralAbbreviation': u'IU', 'plural': u'IU', 'id': u'ed46fe0c-44fe-4c1f-b3a8-880f92e30930'}), 'description': u'Vitamin A, IU', 'value': 3918.64}), NutritionEstimate({'attribute': u'ILE_G', 'unit': NutritionUnit({'abbreviation': u'g', 'pluralAbbreviation': u'grams', 'plural': u'grams', 'id': u'12485d26-6e69-102c-9a8a-0030485841f8'}), 'description': u'Isoleucine', 'value': 1.78}), NutritionEstimate({'attribute': u'SER_G', 'unit': NutritionUnit({'abbreviation': u'g', 'pluralAbbreviation': u'grams', 'plural': u'grams', 'id': u'12485d26-6e69-102c-9a8a-0030485841f8'}), 'description': u'Serine', 'value': 1.49}), NutritionEstimate({'attribute': u'F18D3', 'unit': NutritionUnit({'abbreviation': u'g', 'pluralAbbreviation': u'grams', 'plural': u'grams', 'id': u'12485d26-6e69-102c-9a8a-0030485841f8'}), 'description': u'18:3 undifferentiated', 'value': 0.05}), NutritionEstimate({'attribute': u'F16D1C', 'unit': NutritionUnit({'abbreviation': u'g', 'pluralAbbreviation': u'grams', 'plural': u'grams', 'id': u'12485d26-6e69-102c-9a8a-0030485841f8'}), 'description': u'16:1 c', 'value': 0.05}), NutritionEstimate({'attribute': u'LYS_G', 'unit': NutritionUnit({'abbreviation': u'g', 'pluralAbbreviation': u'grams', 'plural': u'grams', 'id': u'12485d26-6e69-102c-9a8a-0030485841f8'}), 'description': u'Lysine', 'value': 1.97}), NutritionEstimate({'attribute': u'CARTB', 'unit': NutritionUnit({'abbreviation': u'g', 'pluralAbbreviation': u'grams', 'plural': u'grams', 'id': u'12485d26-6e69-102c-9a8a-0030485841f8'}), 'description': u'Carotene, beta', 'value': 0.0}), NutritionEstimate({'attribute': u'THR_G', 'unit': NutritionUnit({'abbreviation': u'g', 'pluralAbbreviation': u'grams', 'plural': u'grams', 'id': u'12485d26-6e69-102c-9a8a-0030485841f8'}), 'description': u'Threonine', 'value': 1.3}), NutritionEstimate({'attribute': u'BETN', 'unit': NutritionUnit({'abbreviation': u'g', 'pluralAbbreviation': u'grams', 'plural': u'grams', 'id': u'12485d26-6e69-102c-9a8a-0030485841f8'}), 'description': u'Betaine', 'value': 0.0}), NutritionEstimate({'attribute': u'F18D2', 'unit': NutritionUnit({'abbreviation': u'g', 'pluralAbbreviation': u'grams', 'plural': u'grams', 'id': u'12485d26-6e69-102c-9a8a-0030485841f8'}), 'description': u'18:2 undifferentiated', 'value': 1.71}), NutritionEstimate({'attribute': u'F18D1', 'unit': NutritionUnit({'abbreviation': u'g', 'pluralAbbreviation': u'grams', 'plural': u'grams', 'id': u'12485d26-6e69-102c-9a8a-0030485841f8'}), 'description': u'18:1 undifferentiated', 'value': 10.36}), NutritionEstimate({'attribute': u'F16D0', 'unit': NutritionUnit({'abbreviation': u'g', 'pluralAbbreviation': u'grams', 'plural': u'grams', 'id': u'12485d26-6e69-102c-9a8a-0030485841f8'}), 'description': u'16:0', 'value': 7.0}), NutritionEstimate({'attribute': u'GLU_G', 'unit': NutritionUnit({'abbreviation': u'g', 'pluralAbbreviation': u'grams', 'plural': u'grams', 'id': u'12485d26-6e69-102c-9a8a-0030485841f8'}), 'description': u'Glutamic acid', 'value': 4.68}), NutritionEstimate({'attribute': u'CRYPX', 'unit': NutritionUnit({'abbreviation': u'g', 'pluralAbbreviation': u'grams', 'plural': u'grams', 'id': u'12485d26-6e69-102c-9a8a-0030485841f8'}), 'description': u'Cryptoxanthin, beta', 'value': 0.0}), NutritionEstimate({'attribute': u'NIA', 'unit': NutritionUnit({'abbreviation': u'g', 'pluralAbbreviation': u'grams', 'plural': u'grams', 'id': u'12485d26-6e69-102c-9a8a-0030485841f8'}), 'description': u'Niacin', 'value': 0.0}), NutritionEstimate({'attribute': u'VITA_RAE', 'unit': NutritionUnit({'abbreviation': u'mcg_RAE', 'pluralAbbreviation': u'mcg_RAE', 'plural': u'mcg_RAE', 'id': u'0fcf76b3-891a-403d-883f-58c8809ef151'}), 'description': u'Vitamin A, RAE', 'value': 225.21}), NutritionEstimate({'attribute': u'VITB12', 'unit': NutritionUnit({'abbreviation': u'g', 'pluralAbbreviation': u'grams', 'plural': u'grams', 'id': u'12485d26-6e69-102c-9a8a-0030485841f8'}), 'description': u'Vitamin B-12', 'value': 0.0}), NutritionEstimate({'attribute': u'MET_G', 'unit': NutritionUnit({'abbreviation': u'g', 'pluralAbbreviation': u'grams', 'plural': u'grams', 'id': u'12485d26-6e69-102c-9a8a-0030485841f8'}), 'description': u'Methionine', 'value': 0.47}), NutritionEstimate({'attribute': u'F14D0', 'unit': NutritionUnit({'abbreviation': u'g', 'pluralAbbreviation': u'grams', 'plural': u'grams', 'id': u'12485d26-6e69-102c-9a8a-0030485841f8'}), 'description': u'14:0', 'value': 2.03}), NutritionEstimate({'attribute': u'FAPU', 'unit': NutritionUnit({'abbreviation': u'g', 'pluralAbbreviation': u'grams', 'plural': u'grams', 'id': u'12485d26-6e69-102c-9a8a-0030485841f8'}), 'description': u'Fatty acids, total polyunsaturated', 'value': 1.94}), NutritionEstimate({'attribute': u'MG', 'unit': NutritionUnit({'abbreviation': u'g', 'pluralAbbreviation': u'grams', 'plural': u'grams', 'id': u'12485d26-6e69-102c-9a8a-0030485841f8'}), 'description': u'Magnesium, Mg', 'value': 0.03}), NutritionEstimate({'attribute': u'CA', 'unit': NutritionUnit({'abbreviation': u'g', 'pluralAbbreviation': u'grams', 'plural': u'grams', 'id': u'12485d26-6e69-102c-9a8a-0030485841f8'}), 'description': u'Calcium, Ca', 'value': 0.5}), NutritionEstimate({'attribute': u'F10D0', 'unit': NutritionUnit({'abbreviation': u'g', 'pluralAbbreviation': u'grams', 'plural': u'grams', 'id': u'12485d26-6e69-102c-9a8a-0030485841f8'}), 'description': u'10:0', 'value': 0.61}), NutritionEstimate({'attribute': u'CHOLN', 'unit': NutritionUnit({'abbreviation': u'g', 'pluralAbbreviation': u'grams', 'plural': u'grams', 'id': u'12485d26-6e69-102c-9a8a-0030485841f8'}), 'description': u'Choline, total', 'value': 0.22}), NutritionEstimate({'attribute': u'PANTAC', 'unit': NutritionUnit({'abbreviation': u'g', 'pluralAbbreviation': u'grams', 'plural': u'grams', 'id': u'12485d26-6e69-102c-9a8a-0030485841f8'}), 'description': u'Pantothenic acid', 'value': 0.0}), NutritionEstimate({'attribute': u'P', 'unit': NutritionUnit({'abbreviation': u'g', 'pluralAbbreviation': u'grams', 'plural': u'grams', 'id': u'12485d26-6e69-102c-9a8a-0030485841f8'}), 'description': u'Phosphorus, P', 'value': 0.48}), NutritionEstimate({'attribute': u'TOCPHG', 'unit': NutritionUnit({'abbreviation': u'g', 'pluralAbbreviation': u'grams', 'plural': u'grams', 'id': u'12485d26-6e69-102c-9a8a-0030485841f8'}), 'description': u'Tocopherol, gamma', 'value': 0.0}), NutritionEstimate({'attribute': u'F17D0', 'unit': NutritionUnit({'abbreviation': u'g', 'pluralAbbreviation': u'grams', 'plural': u'grams', 'id': u'12485d26-6e69-102c-9a8a-0030485841f8'}), 'description': u'17:0', 'value': 0.05}), NutritionEstimate({'attribute': u'CHOLE', 'unit': NutritionUnit({'abbreviation': u'g', 'pluralAbbreviation': u'grams', 'plural': u'grams', 'id': u'12485d26-6e69-102c-9a8a-0030485841f8'}), 'description': u'Cholesterol', 'value': 0.42}), NutritionEstimate({'attribute': u'LUT+ZEA', 'unit': NutritionUnit({'abbreviation': u'g', 'pluralAbbreviation': u'grams', 'plural': u'grams', 'id': u'12485d26-6e69-102c-9a8a-0030485841f8'}), 'description': u'Lutein + zeaxanthin', 'value': 0.0}), NutritionEstimate({'attribute': u'LEU_G', 'unit': NutritionUnit({'abbreviation': u'g', 'pluralAbbreviation': u'grams', 'plural': u'grams', 'id': u'12485d26-6e69-102c-9a8a-0030485841f8'}), 'description': u'Leucine', 'value': 1.97}), NutritionEstimate({'attribute': u'F18D0', 'unit': NutritionUnit({'abbreviation': u'g', 'pluralAbbreviation': u'grams', 'plural': u'grams', 'id': u'12485d26-6e69-102c-9a8a-0030485841f8'}), 'description': u'18:0', 'value': 2.62}), NutritionEstimate({'attribute': u'VITK', 'unit': NutritionUnit({'abbreviation': u'g', 'pluralAbbreviation': u'grams', 'plural': u'grams', 'id': u'12485d26-6e69-102c-9a8a-0030485841f8'}), 'description': u'Vitamin K (phylloquinone)', 'value': 0.0}), NutritionEstimate({'attribute': u'FOL', 'unit': NutritionUnit({'abbreviation': u'g', 'pluralAbbreviation': u'grams', 'plural': u'grams', 'id': u'12485d26-6e69-102c-9a8a-0030485841f8'}), 'description': u'Folate, total', 'value': 0.0}), NutritionEstimate({'attribute': u'CHOCDF', 'unit': NutritionUnit({'abbreviation': u'g', 'pluralAbbreviation': u'grams', 'plural': u'grams', 'id': u'12485d26-6e69-102c-9a8a-0030485841f8'}), 'description': u'Carbohydrate, by difference', 'value': 4.39}), NutritionEstimate({'attribute': u'PHE_G', 'unit': NutritionUnit({'abbreviation': u'g', 'pluralAbbreviation': u'grams', 'plural': u'grams', 'id': u'12485d26-6e69-102c-9a8a-0030485841f8'}), 'description': u'Phenylalanine', 'value': 1.49}), NutritionEstimate({'attribute': u'PROCNT', 'unit': NutritionUnit({'abbreviation': u'g', 'pluralAbbreviation': u'grams', 'plural': u'grams', 'id': u'12485d26-6e69-102c-9a8a-0030485841f8'}), 'description': u'Protein', 'value': 28.47}), NutritionEstimate({'attribute': u'FIBTG', 'unit': NutritionUnit({'abbreviation': u'g', 'pluralAbbreviation': u'grams', 'plural': u'grams', 'id': u'12485d26-6e69-102c-9a8a-0030485841f8'}), 'description': u'Fiber, total dietary', 'value': 1.24}), NutritionEstimate({'attribute': u'SE', 'unit': NutritionUnit({'abbreviation': u'g', 'pluralAbbreviation': u'grams', 'plural': u'grams', 'id': u'12485d26-6e69-102c-9a8a-0030485841f8'}), 'description': u'Selenium, Se', 'value': 0.0}), NutritionEstimate({'attribute': u'ASH', 'unit': NutritionUnit({'abbreviation': u'g', 'pluralAbbreviation': u'grams', 'plural': u'grams', 'id': u'12485d26-6e69-102c-9a8a-0030485841f8'}), 'description': u'Ash', 'value': 4.26}), NutritionEstimate({'attribute': u'GLY_G', 'unit': NutritionUnit({'abbreviation': u'g', 'pluralAbbreviation': u'grams', 'plural': u'grams', 'id': u'12485d26-6e69-102c-9a8a-0030485841f8'}), 'description': u'Glycine', 'value': 0.19}), NutritionEstimate({'attribute': u'FAMS', 'unit': NutritionUnit({'abbreviation': u'g', 'pluralAbbreviation': u'grams', 'plural': u'grams', 'id': u'12485d26-6e69-102c-9a8a-0030485841f8'}), 'description': u'Fatty acids, total monounsaturated', 'value': 12.09}), NutritionEstimate({'attribute': u'F6D0', 'unit': NutritionUnit({'abbreviation': u'g', 'pluralAbbreviation': u'grams', 'plural': u'grams', 'id': u'12485d26-6e69-102c-9a8a-0030485841f8'}), 'description': u'6:0', 'value': 0.28}), NutritionEstimate({'attribute': u'SUGAR', 'unit': NutritionUnit({'abbreviation': u'g', 'pluralAbbreviation': u'grams', 'plural': u'grams', 'id': u'12485d26-6e69-102c-9a8a-0030485841f8'}), 'description': u'Sugars, total', 'value': 1.39}), NutritionEstimate({'attribute': u'RETOL', 'unit': NutritionUnit({'abbreviation': u'g', 'pluralAbbreviation': u'grams', 'plural': u'grams', 'id': u'12485d26-6e69-102c-9a8a-0030485841f8'}), 'description': u'Retinol', 'value': 0.0}), NutritionEstimate({'attribute': u'F8D0', 'unit': NutritionUnit({'abbreviation': u'g', 'pluralAbbreviation': u'grams', 'plural': u'grams', 'id': u'12485d26-6e69-102c-9a8a-0030485841f8'}), 'description': u'8:0', 'value': 0.05}), NutritionEstimate({'attribute': u'WATER', 'unit': NutritionUnit({'abbreviation': u'g', 'pluralAbbreviation': u'grams', 'plural': u'grams', 'id': u'12485d26-6e69-102c-9a8a-0030485841f8'}), 'description': u'Water', 'value': 101.24}), NutritionEstimate({'attribute': u'TOCPHA', 'unit': NutritionUnit({'abbreviation': u'g', 'pluralAbbreviation': u'grams', 'plural': u'grams', 'id': u'12485d26-6e69-102c-9a8a-0030485841f8'}), 'description': u'Vitamin E (alpha-tocopherol)', 'value': 0.0}), NutritionEstimate({'attribute': u'ASP_G', 'unit': NutritionUnit({'abbreviation': u'g', 'pluralAbbreviation': u'grams', 'plural': u'grams', 'id': u'12485d26-6e69-102c-9a8a-0030485841f8'}), 'description': u'Aspartic acid', 'value': 1.78}), NutritionEstimate({'attribute': u'F4D0', 'unit': NutritionUnit({'abbreviation': u'g', 'pluralAbbreviation': u'grams', 'plural': u'grams', 'id': u'12485d26-6e69-102c-9a8a-0030485841f8'}), 'description': u'4:0', 'value': 0.61}), NutritionEstimate({'attribute': u'HISTN_G', 'unit': NutritionUnit({'abbreviation': u'g', 'pluralAbbreviation': u'grams', 'plural': u'grams', 'id': u'12485d26-6e69-102c-9a8a-0030485841f8'}), 'description': u'Histidine', 'value': 0.47}), NutritionEstimate({'attribute': u'ENERC_KJ', 'unit': NutritionUnit({'abbreviation': u'kcal', 'pluralAbbreviation': u'kcal', 'plural': u'calories', 'id': u'fea252f8-9888-4365-b005-e2c63ed3a776'}), 'description': u'Energy', 'value': 1646.37}), NutritionEstimate({'attribute': u'FE', 'unit': NutritionUnit({'abbreviation': u'g', 'pluralAbbreviation': u'grams', 'plural': u'grams', 'id': u'12485d26-6e69-102c-9a8a-0030485841f8'}), 'description': u'Iron, Fe', 'value': 0.0}), NutritionEstimate({'attribute': u'TYR_G', 'unit': NutritionUnit({'abbreviation': u'g', 'pluralAbbreviation': u'grams', 'plural': u'grams', 'id': u'12485d26-6e69-102c-9a8a-0030485841f8'}), 'description': u'Tyrosine', 'value': 0.66}), NutritionEstimate({'attribute': u'FOLFD', 'unit': NutritionUnit({'abbreviation': u'g', 'pluralAbbreviation': u'grams', 'plural': u'grams', 'id': u'12485d26-6e69-102c-9a8a-0030485841f8'}), 'description': u'Folate, food', 'value': 0.0}), NutritionEstimate({'attribute': u'F18D1T', 'unit': NutritionUnit({'abbreviation': u'g', 'pluralAbbreviation': u'grams', 'plural': u'grams', 'id': u'12485d26-6e69-102c-9a8a-0030485841f8'}), 'description': u'18:1 t', 'value': 0.14}), NutritionEstimate({'attribute': u'ALA_G', 'unit': NutritionUnit({'abbreviation': u'g', 'pluralAbbreviation': u'grams', 'plural': u'grams', 'id': u'12485d26-6e69-102c-9a8a-0030485841f8'}), 'description': u'Alanine', 'value': 1.3}), NutritionEstimate({'attribute': u'F16D1', 'unit': NutritionUnit({'abbreviation': u'g', 'pluralAbbreviation': u'grams', 'plural': u'grams', 'id': u'12485d26-6e69-102c-9a8a-0030485841f8'}), 'description': u'16:1 undifferentiated', 'value': 0.37}), NutritionEstimate({'attribute': u'ARG_G', 'unit': NutritionUnit({'abbreviation': u'g', 'pluralAbbreviation': u'grams', 'plural': u'grams', 'id': u'12485d26-6e69-102c-9a8a-0030485841f8'}), 'description': u'Arginine', 'value': 1.3}), NutritionEstimate({'attribute': u'F12D0', 'unit': NutritionUnit({'abbreviation': u'g', 'pluralAbbreviation': u'grams', 'plural': u'grams', 'id': u'12485d26-6e69-102c-9a8a-0030485841f8'}), 'description': u'12:0', 'value': 0.33}), NutritionEstimate({'attribute': u'FOLDFE', 'unit': NutritionUnit({'abbreviation': u'mcg_DFE', 'pluralAbbreviation': u'mcg_DFE', 'plural': u'mcg_DFE', 'id': u'4d783ee4-aa07-4958-84bf-3f4b528049dc'}), 'description': u'Folate, DFE', 'value': 48.38}), NutritionEstimate({'attribute': u'FASAT', 'unit': NutritionUnit({'abbreviation': u'g', 'pluralAbbreviation': u'grams', 'plural': u'grams', 'id': u'12485d26-6e69-102c-9a8a-0030485841f8'}), 'description': u'Fatty acids, total saturated', 'value': 14.33}), NutritionEstimate({'attribute': u'F18D2CN6', 'unit': NutritionUnit({'abbreviation': u'g', 'pluralAbbreviation': u'grams', 'plural': u'grams', 'id': u'12485d26-6e69-102c-9a8a-0030485841f8'}), 'description': u'18:2 n-6 c,c', 'value': 0.09}), NutritionEstimate({'attribute': u'F18D1C', 'unit': NutritionUnit({'abbreviation': u'g', 'pluralAbbreviation': u'grams', 'plural': u'grams', 'id': u'12485d26-6e69-102c-9a8a-0030485841f8'}), 'description': u'18:1 c', 'value': 0.8}), NutritionEstimate({'attribute': u'SITSTR', 'unit': NutritionUnit({'abbreviation': u'g', 'pluralAbbreviation': u'grams', 'plural': u'grams', 'id': u'12485d26-6e69-102c-9a8a-0030485841f8'}), 'description': u'Beta-sitosterol', 'value': 0.0}), NutritionEstimate({'attribute': u'VAL_G', 'unit': NutritionUnit({'abbreviation': u'g', 'pluralAbbreviation': u'grams', 'plural': u'grams', 'id': u'12485d26-6e69-102c-9a8a-0030485841f8'}), 'description': u'Valine', 'value': 1.78}), NutritionEstimate({'attribute': u'PHYSTR', 'unit': NutritionUnit({'abbreviation': u'g', 'pluralAbbreviation': u'grams', 'plural': u'grams', 'id': u'12485d26-6e69-102c-9a8a-0030485841f8'}), 'description': u'Phytosterols', 'value': 0.01}), NutritionEstimate({'attribute': u'FLD', 'unit': NutritionUnit({'abbreviation': u'g', 'pluralAbbreviation': u'grams', 'plural': u'grams', 'id': u'12485d26-6e69-102c-9a8a-0030485841f8'}), 'description': u'Fluoride, F', 'value': 0.0}), NutritionEstimate({'attribute': u'K', 'unit': NutritionUnit({'abbreviation': u'g', 'pluralAbbreviation': u'grams', 'plural': u'grams', 'id': u'12485d26-6e69-102c-9a8a-0030485841f8'}), 'description': u'Potassium, K', 'value': 0.22})], 'id': u'Greens_-Eggs-_-Ham-Frittata-2207719', 'name': u'Greens, Eggs & Ham Frittata'})"
      ]
     },
     "execution_count": 49,
     "metadata": {},
     "output_type": "execute_result"
    }
   ],
   "source": [
    "recipe"
   ]
  },
  {
   "cell_type": "code",
   "execution_count": null,
   "metadata": {
    "collapsed": true
   },
   "outputs": [],
   "source": []
  }
 ],
 "metadata": {
  "kernelspec": {
   "display_name": "Python 2",
   "language": "python",
   "name": "python2"
  },
  "language_info": {
   "codemirror_mode": {
    "name": "ipython",
    "version": 2
   },
   "file_extension": ".py",
   "mimetype": "text/x-python",
   "name": "python",
   "nbconvert_exporter": "python",
   "pygments_lexer": "ipython2",
   "version": "2.7.14"
  }
 },
 "nbformat": 4,
 "nbformat_minor": 2
}
